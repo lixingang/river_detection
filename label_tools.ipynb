{
 "cells": [
  {
   "cell_type": "code",
   "execution_count": 13,
   "metadata": {},
   "outputs": [],
   "source": [
    "from PIL import Image\n",
    "import numpy as np\n",
    "import os"
   ]
  },
  {
   "cell_type": "code",
   "execution_count": 28,
   "metadata": {},
   "outputs": [],
   "source": [
    "def batch_rename(dir):\n",
    "    for i in os.listdir(dir):\n",
    "        if i.split('.')[-1]!='png':\n",
    "            continue\n",
    "        \n",
    "        source_path = os.path.join(dir, i)\n",
    "        if i.split('.')[0].split('_')[-1]=='json':\n",
    "            dst_path = os.path.join(dir,i.split('.')[0].split('_')[0]+'_'+i.split('.')[0].split('_')[1]+'.png')\n",
    "            os.rename(source_path, dst_path)\n",
    "#         else:\n",
    "#             newname = i.split('_')[0]+'_'+i.split('_')[1]+'_mask.png'\n",
    "        \n",
    "        \n",
    "        \n",
    "def convert(imagepath,dstpath):\n",
    "    '''\n",
    "    该工具用来将spacenet中的标签数据转化为0,0,0 or 255,255,255\n",
    "    '''\n",
    "    a = Image.open(imagepath,'r')\n",
    "    a = np.array(a)\n",
    "    \n",
    "    a = np.expand_dims(a,-1)\n",
    "    Ra,Ba,Ga = a.copy(),a.copy(),a.copy()\n",
    "    Ra[a!=0] = 552\n",
    "    Ba[a!=0] = 255\n",
    "    Ga[a!=0] = 255\n",
    "    b = Image.fromarray(np.concatenate((Ra,Ba,Ga),-1))\n",
    "    b.save(dstpath)\n",
    "def convert_v2(imagepath,dstpath):\n",
    "    '''\n",
    "    该工具用来将spacenet中的标签数据转化为0 or 200\n",
    "    '''\n",
    "    a = Image.open(imagepath,'r')\n",
    "    a = np.array(a)\n",
    "    \n",
    "    a[a!=0]=200\n",
    "    b = Image.fromarray(a)\n",
    "    b.save(dstpath)\n",
    "def save_image_list(imagepath, output_file):\n",
    "    '''\n",
    "    该工具用来将文件夹里的文件输出文件\n",
    "    '''\n",
    "    f = open(output_file,'w')\n",
    "    for i in os.listdir(imagepath):\n",
    "        name = i.split('.')[0]\n",
    "        f.write(name+'\\n')\n",
    "    f.close\n",
    "def save_image_pair_list(imagepath, output_file):\n",
    "    '''\n",
    "    该工具用来将文件夹里的文件输出 （图片文件名 标签文件名）txt文件\n",
    "    '''\n",
    "    f = open(output_file,'w')\n",
    "    for i in os.listdir(imagepath):\n",
    "        name = i.split('.')[0]+'_mask.png'\n",
    "        \n",
    "        f.write(i+' '+name+'\\n')\n",
    "    f.close"
   ]
  },
  {
   "cell_type": "code",
   "execution_count": 29,
   "metadata": {},
   "outputs": [],
   "source": [
    "save_image_pair_list('/home/data/lixg/river/images','train_list.txt')\n",
    "#batch_rename('images')"
   ]
  },
  {
   "cell_type": "code",
   "execution_count": null,
   "metadata": {},
   "outputs": [],
   "source": []
  }
 ],
 "metadata": {
  "kernelspec": {
   "display_name": "Python 3",
   "language": "python",
   "name": "python3"
  },
  "language_info": {
   "codemirror_mode": {
    "name": "ipython",
    "version": 3
   },
   "file_extension": ".py",
   "mimetype": "text/x-python",
   "name": "python",
   "nbconvert_exporter": "python",
   "pygments_lexer": "ipython3",
   "version": "3.5.2"
  }
 },
 "nbformat": 4,
 "nbformat_minor": 2
}
