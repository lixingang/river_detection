{
 "cells": [
  {
   "cell_type": "code",
   "execution_count": 29,
   "metadata": {},
   "outputs": [],
   "source": [
    "import numpy as np\n",
    "from PIL import Image\n",
    "import os\n",
    "import matplotlib.pyplot as plt"
   ]
  },
  {
   "cell_type": "code",
   "execution_count": null,
   "metadata": {},
   "outputs": [],
   "source": [
    "def split_color(img, value=50):\n",
    "    img[img<value]=0\n",
    "    img[img>=value]=200\n",
    "    return img\n",
    "    \n",
    "def compute_image_iou(pred_file,label_file):\n",
    "    label_image = np.array(Image.open(label_file).resize((512,512)))\n",
    "    label_image = np.expand_dims(label_image,-1)\n",
    "    label_image = np.concatenate([label_image,label_image,label_image],axis=2)\n",
    "    pred_image = np.array(Image.open(pred_file).resize((512,512)))\n",
    "    label_image = split_color(label_image,0.5)\n",
    "    pred_image = split_color(pred_image)\n",
    "    plt.rcParams['figure.dpi'] = 300\n",
    "    plt.subplot(1,2,1)\n",
    "    plt.imshow(pred_image)\n",
    "    plt.subplot(1,2,2)\n",
    "    plt.imshow(label_image)\n",
    "    background_color=np.array([0, 0, 0])\n",
    "    #print('[I] Shape:',label_image.shape, pred_image.shape)\n",
    "    #print(label_file, pred_image)\n",
    "    bg_image = np.all(label_image == background_color, axis=2)\n",
    "    #plt.imshow(bg_image)\n",
    "    label = np.invert(bg_image)\n",
    "\n",
    "    bg_image = np.all(pred_image == background_color, axis=2)\n",
    "    pred = np.invert(bg_image)\n",
    "    \n",
    "    label = label.reshape(-1,1).astype(float)\n",
    "    pred = pred.reshape(-1,1).astype(float)\n",
    "    inter = np.sum(label * pred)\n",
    "    union = max(np.sum(label + pred) - inter, 1)\n",
    "    iou = inter*1./union\n",
    "    return iou\n",
    "def batch_iou(pred_dir,label_dir):\n",
    "    iou = 0\n",
    "    count=0\n",
    "    for i in os.listdir(pred_dir):\n",
    "        if i.split('.')[-1]!='png':\n",
    "            continue\n",
    "        name=i.split('_')[0].split('.')[0].split('-')[-1]\n",
    "        pred_file = os.path.join(pred_dir,'testing-'+name+'.png')\n",
    "        label_file = os.path.join(label_dir,'RGB-PanSharpen_AOI_2_Vegas_'+name+'_mask.png')\n",
    "        if not os.path.exists(label_file):\n",
    "            continue\n",
    "        # print(label_file)\n",
    "        iou+=compute_image_iou(pred_file,label_file)\n",
    "        count+=1\n",
    "    print('[I] The Mean IOU is', iou*1.0/count)\n",
    "    "
   ]
  },
  {
   "cell_type": "code",
   "execution_count": null,
   "metadata": {},
   "outputs": [],
   "source": [
    "batch_iou('test_output_AOI','/home/lixg/data/road/labels_pixel')\n",
    "# 10 35 94 125\n",
    "# label_name = '../labels_pixel/im_10_mask.png'\n",
    "# # pred_image = 'test_output_AOI/testing-125.png'\n",
    "# pred_image = 'other_outputs/object/im_10.png'\n",
    "# compute_image_iou(pred_image,label_name)"
   ]
  },
  {
   "cell_type": "code",
   "execution_count": null,
   "metadata": {},
   "outputs": [],
   "source": []
  },
  {
   "cell_type": "code",
   "execution_count": null,
   "metadata": {},
   "outputs": [],
   "source": []
  }
 ],
 "metadata": {
  "kernelspec": {
   "display_name": "Python 3",
   "language": "python",
   "name": "python3"
  },
  "language_info": {
   "codemirror_mode": {
    "name": "ipython",
    "version": 3
   },
   "file_extension": ".py",
   "mimetype": "text/x-python",
   "name": "python",
   "nbconvert_exporter": "python",
   "pygments_lexer": "ipython3",
   "version": "3.5.2"
  }
 },
 "nbformat": 4,
 "nbformat_minor": 2
}
